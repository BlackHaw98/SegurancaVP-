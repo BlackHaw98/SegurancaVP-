{
 "cells": [
  {
   "cell_type": "code",
   "execution_count": 1,
   "id": "4f788198",
   "metadata": {},
   "outputs": [],
   "source": [
    "from Crypto.Hash import SHA256\n",
    "from Crypto.PublicKey import RSA\n",
    "from Crypto import Random"
   ]
  },
  {
   "cell_type": "code",
   "execution_count": 4,
   "id": "0730c2ce",
   "metadata": {},
   "outputs": [
    {
     "name": "stdout",
     "output_type": "stream",
     "text": [
      "debug 1\n"
     ]
    }
   ],
   "source": [
    "random_seed = Random.new().read\n",
    "\n",
    "keyPair = RSA.generate(1024, random_seed)\n",
    "pubKey = keyPair.publickey()\n",
    "\n",
    "True_text = 'Elefante Verde'\n",
    "Fake_text = 'Elefante Vermelho'\n",
    "\n",
    "hashA = SHA256.new(True_text.encode('utf-8')).digest()\n",
    "digitalSign = keyPair.sign(hashA, '')\n",
    "\n",
    "print('Hash-A:' + repr(hashA) + '\\n')\n",
    "print('Digital sign:' + repr(digitalSign)+'\\n')\n",
    "\n",
    "hashB = SHA256.new(True_text.encode('utf-8')).digest()\n",
    "hashC = SHA256.new(Fake_text.encode('utf-8')).digest()\n",
    "\n",
    "print('Hash-B :' + repr(hashB) + '\\n')\n",
    "print('Hash-C :' + repr(hashC) + '\\n')\n",
    "\n",
    "if(pubKey.verify(hashB, digitalSign)): \n",
    "    print('O texto autentico é' + True_text)\n",
    "    \n",
    "elif(pubKey.verify(hashB, digitalSign)):\n",
    "    print('O texto autentico é' + Fake_text)"
   ]
  },
  {
   "cell_type": "code",
   "execution_count": null,
   "id": "a20354e8",
   "metadata": {},
   "outputs": [],
   "source": []
  },
  {
   "cell_type": "code",
   "execution_count": null,
   "id": "68f05622",
   "metadata": {},
   "outputs": [],
   "source": []
  }
 ],
 "metadata": {
  "kernelspec": {
   "display_name": "Python 3",
   "language": "python",
   "name": "python3"
  },
  "language_info": {
   "codemirror_mode": {
    "name": "ipython",
    "version": 3
   },
   "file_extension": ".py",
   "mimetype": "text/x-python",
   "name": "python",
   "nbconvert_exporter": "python",
   "pygments_lexer": "ipython3",
   "version": "3.8.8"
  }
 },
 "nbformat": 4,
 "nbformat_minor": 5
}
