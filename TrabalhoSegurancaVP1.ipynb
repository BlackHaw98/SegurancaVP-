{
 "cells": [
  {
   "cell_type": "code",
   "execution_count": 6,
   "id": "8ae99bfb",
   "metadata": {},
   "outputs": [],
   "source": [
    "from cryptography.fernet import Fernet, MultiFernet\n",
    "\n",
    "#chave para encriptografar ms\n",
    "\n",
    "def message__(x):\n",
    "    key = Fernet.generate_key()\n",
    "    with open('secret.key', 'wb') as keyFile:\n",
    "        keyFile.write(key)\n",
    "    f= Fernet(key)\n",
    "    message = x\n",
    "    fernettoken = f.encrypt(message)\n",
    "\n",
    "    print('encrypt message: ' +fernettoken.decode('utf-8'))\n",
    "    print( 'key: ' + key.decode('utf-8'))\n",
    "\n",
    "def Key_L():  \n",
    "    return open('secret.key', 'rb').read()\n",
    "    \n",
    "def receive(message, isKey):\n",
    "    try: \n",
    "        if(isKey): Key = Key_L()\n",
    "        else: Key = bytes(isKey, encoding= 'utf-8')\n",
    "\n",
    "        cipherSuite = Fernet(Key)    \n",
    "        plainText = cipherSuite.decrypt(message)\n",
    "\n",
    "        print(plainText.decode('utf-8'))                \n",
    "    except:\n",
    "        print('Null')\n",
    "        \n"
   ]
  },
  {
   "cell_type": "code",
   "execution_count": 7,
   "id": "d985ec2a",
   "metadata": {},
   "outputs": [
    {
     "name": "stdout",
     "output_type": "stream",
     "text": [
      "encrypt message: gAAAAABhRRLesdP1_a4p4WoYk4Grm_mXyLQMz9kGgMtBD4nOjnKeAvEW_xF2iXhwbo34w0x4sRIcB_4wtLRnsEJ3gwIBkNOsNA==\n",
      "key: 7-RDSmH7hPpKw8HjXrv8sD66KaxJyst5DxtCHBe_tIo=\n"
     ]
    }
   ],
   "source": [
    "message__(bytes('irineu', encoding= 'utf-8'))"
   ]
  },
  {
   "cell_type": "code",
   "execution_count": 8,
   "id": "7abd13cc",
   "metadata": {},
   "outputs": [
    {
     "name": "stdout",
     "output_type": "stream",
     "text": [
      "Input your encrypt message: gAAAAABhRRLesdP1_a4p4WoYk4Grm_mXyLQMz9kGgMtBD4nOjnKeAvEW_xF2iXhwbo34w0x4sRIcB_4wtLRnsEJ3gwIBkNOsNA==\n",
      "Input your key: 7-RDSmH7hPpKw8HjXrv8sD66KaxJyst5DxtCHBe_tIo=\n",
      "irineu\n"
     ]
    }
   ],
   "source": [
    "encrypt_message = input('Input your encrypt message: ')\n",
    "key = input('Input your key: ')\n",
    "receive(bytes(encrypt_message, encoding= 'utf-8'), key)"
   ]
  },
  {
   "cell_type": "code",
   "execution_count": null,
   "id": "11e418e6",
   "metadata": {},
   "outputs": [],
   "source": []
  }
 ],
 "metadata": {
  "kernelspec": {
   "display_name": "Python 3",
   "language": "python",
   "name": "python3"
  },
  "language_info": {
   "codemirror_mode": {
    "name": "ipython",
    "version": 3
   },
   "file_extension": ".py",
   "mimetype": "text/x-python",
   "name": "python",
   "nbconvert_exporter": "python",
   "pygments_lexer": "ipython3",
   "version": "3.8.8"
  }
 },
 "nbformat": 4,
 "nbformat_minor": 5
}
